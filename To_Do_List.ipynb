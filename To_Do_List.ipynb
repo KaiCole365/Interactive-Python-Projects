{
  "nbformat": 4,
  "nbformat_minor": 0,
  "metadata": {
    "colab": {
      "provenance": []
    },
    "kernelspec": {
      "name": "python3",
      "display_name": "Python 3"
    },
    "language_info": {
      "name": "python"
    }
  },
  "cells": [
    {
      "cell_type": "markdown",
      "source": [
        "# To Do List - CRUD Functionality"
      ],
      "metadata": {
        "id": "SBFMsFOoUDtN"
      }
    },
    {
      "cell_type": "code",
      "source": [
        "# Creating the variables\n",
        "\n",
        "tasks = [] # List to store tasks\n",
        "task_id = 1 # Auto-incrementing ID for tasks\n",
        "\n",
        "\n",
        "def create_task(title):\n",
        "  # Adds new task to the list\n",
        "  global task_id\n",
        "  task = {\"id\": task_id, \"title\": title, \"status\": \"Incomplete\"}\n",
        "  tasks.append(task)\n",
        "  task_id += 1\n",
        "  print(f\"Task added: {task}\")\n",
        "\n",
        "\n",
        "def read_tasks():\n",
        "  # Display all tasks\n",
        "  if not tasks:\n",
        "    print(\"No task found.\")\n",
        "  else:\n",
        "    print(\"\\nTo-Do Lists:\")\n",
        "    for task in tasks:\n",
        "      print(f\"[{task['id']}] {task['title']} - {task['status']}\")\n",
        "  print()\n",
        "\n",
        "\n",
        "def update_task(task_id, new_title=None, mark_complete=False):\n",
        "  # Updates task title or mark as complete\n",
        "  for task in tasks:\n",
        "    if task[\"id\"] == task_id:\n",
        "      if new_title:\n",
        "        task[\"title\"] = new_title\n",
        "      if mark_complete:\n",
        "        task[\"status\"] = \"Completed\"\n",
        "      print(f\"Task updated: {task}\")\n",
        "      return\n",
        "  print(\"Task not found.\")\n",
        "\n",
        "\n",
        "def delete_task(task_id):\n",
        "  # Deletes a task by ID.\n",
        "  global tasks\n",
        "  tasks = [task for task in tasks if task[\"id\"] != task_id]\n",
        "  print(f\"Task with ID {task_id} deleted.\")\n",
        "\n",
        "\n",
        "def main():\n",
        "  while True:\n",
        "    print(\"\\n1. Add Task\\n2. View Tasks\\n3. Update Task\\n4. Delete Task\\n5. Exit\")\n",
        "    choice = input(\"Choose an option: \")\n",
        "\n",
        "    if choice == \"1\":\n",
        "      title = input(\"Enter task title: \")\n",
        "      create_task(title)\n",
        "\n",
        "    elif choice == \"2\":\n",
        "      read_tasks()\n",
        "\n",
        "    elif choice == \"3\":\n",
        "      task_id = int(input(\"Enter task ID to update: \"))\n",
        "      new_title = input(\"Enter new title (or press Enter to skip): \")\n",
        "      mark_complete = input(\"Mark task as complete? (y/n): \").lower() == \"y\"\n",
        "      update_task(task_id, new_title if new_title else None, mark_complete)\n",
        "\n",
        "    elif choice == \"4\":\n",
        "      task_id = int(input(\"Enter task ID to delete: \"))\n",
        "      delete_task(task_id)\n",
        "\n",
        "    elif choice == \"5\":\n",
        "      print(\"Existing To-Do List. Goodbye!\")\n",
        "      break\n",
        "\n",
        "    else:\n",
        "      print(\"Invalid choice. Please try again.\")\n",
        "\n",
        "\n",
        "if __name__ == \"__main__\":\n",
        "  main()\n"
      ],
      "metadata": {
        "colab": {
          "base_uri": "https://localhost:8080/"
        },
        "id": "A1m5GakKUH_6",
        "outputId": "5724bce1-dfe9-45db-bce9-bee1a4165f89"
      },
      "execution_count": null,
      "outputs": [
        {
          "output_type": "stream",
          "name": "stdout",
          "text": [
            "\n",
            "1. Add Task\n",
            "2. View Tasks\n",
            "3. Update Task\n",
            "4. Delete Task\n",
            "5. Exit\n"
          ]
        }
      ]
    }
  ]
}