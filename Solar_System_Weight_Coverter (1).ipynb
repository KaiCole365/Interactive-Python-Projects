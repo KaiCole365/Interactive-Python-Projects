{
  "nbformat": 4,
  "nbformat_minor": 0,
  "metadata": {
    "colab": {
      "provenance": []
    },
    "kernelspec": {
      "name": "python3",
      "display_name": "Python 3"
    },
    "language_info": {
      "name": "python"
    }
  },
  "cells": [
    {
      "cell_type": "markdown",
      "source": [
        "# Weight Converter - Earth to Other Planets"
      ],
      "metadata": {
        "id": "O0-No5QvTJMp"
      }
    },
    {
      "cell_type": "code",
      "execution_count": null,
      "metadata": {
        "colab": {
          "base_uri": "https://localhost:8080/"
        },
        "id": "HAv05QRQvEVz",
        "outputId": "246be0c6-fdf8-4028-bad3-61b0a9f0e5e7"
      },
      "outputs": [
        {
          "output_type": "stream",
          "name": "stdout",
          "text": [
            "Weight Converter - Earth to Other Planets\n"
          ]
        }
      ],
      "source": [
        "def convert_weight(value, from_unit, to_planet):\n",
        "  gravity_factors = {\n",
        "      'moon': 0.165, 'mercury': 0.378, 'venus': 0.905, 'mars': 0.379,\n",
        "      'jupiter': 2.528, 'saturn': 1.065, 'neptune': 1.137, 'uranus': 0.886\n",
        "    }\n",
        "\n",
        "  conversion_factors = {\n",
        "      'kg': {'lb': 2.20462, 'oz': 35.274, 'kg': 1},\n",
        "      'lb': {'lb': 1, 'oz': 16, 'kg': 0.453592},\n",
        "      'oz': {'lb': 0.0625, 'oz': 1, 'kg': 0.0283495}\n",
        "  }\n",
        "\n",
        "  if from_unit not in conversion_factors:\n",
        "    return \"Invalid unit. Please use 'kg', 'lb', or 'oz'.\"\n",
        "\n",
        "  if to_planet not in gravity_factors:\n",
        "    return \"Invalid planet. Choose from Moon, Mercury, Venus, Mars, Jupiter, Saturn, Uranus, Neptune.\"\n",
        "\n",
        "  # Convert to kg first\n",
        "  weight_in_kg = value * conversion_factors[from_unit]['kg']\n",
        "\n",
        "  # Adjust for planetary gravity\n",
        "  planetary_weight_kg = weight_in_kg * gravity_factors[to_planet]\n",
        "\n",
        "  # Convert back to original unit\n",
        "  converted_weight = planetary_weight_kg / conversion_factors[from_unit]['kg']\n",
        "\n",
        "  return round(converted_weight, 4)\n",
        "\n",
        "if __name__ == \"__main__\":\n",
        "  print(\"Weight Converter - Earth to Other Planets\")\n",
        "  value = float(input(\"Enter the weight: \"))\n",
        "  from_unit = input(\"Enter the current unit (kg, lb, oz): \").lower()\n",
        "  to_planet = input(\"Enter the planet to convert to: \\n1.moon \\n2.mercury \\n3.venus \\n4.mars \\n5.jupiter \\n6.saturn \\n7.uranus \\n8.neptune \\n\").lower()\n",
        "\n",
        "  result = convert_weight(value, from_unit, to_planet)\n",
        "  print(f\"{value} {from_unit} on Earth is {result} {from_unit} on {to_planet.capitalize()}\")\n",
        "\n"
      ]
    }
  ]
}